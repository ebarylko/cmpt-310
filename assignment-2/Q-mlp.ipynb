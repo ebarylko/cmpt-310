{
 "nbformat": 4,
 "nbformat_minor": 0,
 "metadata": {
  "colab": {
   "provenance": [],
   "toc_visible": true
  },
  "kernelspec": {
   "name": "python3",
   "display_name": "Python 3 (ipykernel)",
   "language": "python"
  },
  "language_info": {
   "name": "python"
  }
 },
 "cells": [
  {
   "cell_type": "markdown",
   "source": [
    "# 0. Install and import the libraries"
   ],
   "metadata": {
    "id": "5uzCG0y3M1qq"
   }
  },
  {
   "metadata": {
    "ExecuteTime": {
     "end_time": "2024-10-19T21:05:48.015855Z",
     "start_time": "2024-10-19T21:04:23.194840Z"
    }
   },
   "cell_type": "code",
   "source": [
    "!pip install numpy\n",
    "!pip install tensorflow\n",
    "!pip install keras\n",
    "!pip install matplotlib"
   ],
   "outputs": [
    {
     "name": "stdout",
     "output_type": "stream",
     "text": [
      "Requirement already satisfied: numpy in ./.venv/lib/python3.12/site-packages (2.1.2)\r\n",
      "Collecting tensorflow\r\n",
      "  Downloading tensorflow-2.17.0-cp312-cp312-macosx_12_0_arm64.whl.metadata (4.1 kB)\r\n",
      "Collecting absl-py>=1.0.0 (from tensorflow)\r\n",
      "  Downloading absl_py-2.1.0-py3-none-any.whl.metadata (2.3 kB)\r\n",
      "Collecting astunparse>=1.6.0 (from tensorflow)\r\n",
      "  Downloading astunparse-1.6.3-py2.py3-none-any.whl.metadata (4.4 kB)\r\n",
      "Collecting flatbuffers>=24.3.25 (from tensorflow)\r\n",
      "  Downloading flatbuffers-24.3.25-py2.py3-none-any.whl.metadata (850 bytes)\r\n",
      "Collecting gast!=0.5.0,!=0.5.1,!=0.5.2,>=0.2.1 (from tensorflow)\r\n",
      "  Downloading gast-0.6.0-py3-none-any.whl.metadata (1.3 kB)\r\n",
      "Collecting google-pasta>=0.1.1 (from tensorflow)\r\n",
      "  Downloading google_pasta-0.2.0-py3-none-any.whl.metadata (814 bytes)\r\n",
      "Collecting h5py>=3.10.0 (from tensorflow)\r\n",
      "  Downloading h5py-3.12.1-cp312-cp312-macosx_11_0_arm64.whl.metadata (2.5 kB)\r\n",
      "Collecting libclang>=13.0.0 (from tensorflow)\r\n",
      "  Downloading libclang-18.1.1-1-py2.py3-none-macosx_11_0_arm64.whl.metadata (5.2 kB)\r\n",
      "Collecting ml-dtypes<0.5.0,>=0.3.1 (from tensorflow)\r\n",
      "  Downloading ml_dtypes-0.4.1-cp312-cp312-macosx_10_9_universal2.whl.metadata (20 kB)\r\n",
      "Collecting opt-einsum>=2.3.2 (from tensorflow)\r\n",
      "  Downloading opt_einsum-3.4.0-py3-none-any.whl.metadata (6.3 kB)\r\n",
      "Requirement already satisfied: packaging in ./.venv/lib/python3.12/site-packages (from tensorflow) (24.1)\r\n",
      "Collecting protobuf!=4.21.0,!=4.21.1,!=4.21.2,!=4.21.3,!=4.21.4,!=4.21.5,<5.0.0dev,>=3.20.3 (from tensorflow)\r\n",
      "  Downloading protobuf-4.25.5-cp37-abi3-macosx_10_9_universal2.whl.metadata (541 bytes)\r\n",
      "Requirement already satisfied: requests<3,>=2.21.0 in ./.venv/lib/python3.12/site-packages (from tensorflow) (2.32.3)\r\n",
      "Requirement already satisfied: setuptools in ./.venv/lib/python3.12/site-packages (from tensorflow) (75.2.0)\r\n",
      "Requirement already satisfied: six>=1.12.0 in ./.venv/lib/python3.12/site-packages (from tensorflow) (1.16.0)\r\n",
      "Collecting termcolor>=1.1.0 (from tensorflow)\r\n",
      "  Downloading termcolor-2.5.0-py3-none-any.whl.metadata (6.1 kB)\r\n",
      "Collecting typing-extensions>=3.6.6 (from tensorflow)\r\n",
      "  Using cached typing_extensions-4.12.2-py3-none-any.whl.metadata (3.0 kB)\r\n",
      "Collecting wrapt>=1.11.0 (from tensorflow)\r\n",
      "  Downloading wrapt-1.16.0-cp312-cp312-macosx_11_0_arm64.whl.metadata (6.6 kB)\r\n",
      "Collecting grpcio<2.0,>=1.24.3 (from tensorflow)\r\n",
      "  Downloading grpcio-1.67.0-cp312-cp312-macosx_10_9_universal2.whl.metadata (3.9 kB)\r\n",
      "Collecting tensorboard<2.18,>=2.17 (from tensorflow)\r\n",
      "  Downloading tensorboard-2.17.1-py3-none-any.whl.metadata (1.6 kB)\r\n",
      "Collecting keras>=3.2.0 (from tensorflow)\r\n",
      "  Downloading keras-3.6.0-py3-none-any.whl.metadata (5.8 kB)\r\n",
      "Collecting numpy<2.0.0,>=1.26.0 (from tensorflow)\r\n",
      "  Using cached numpy-1.26.4-cp312-cp312-macosx_11_0_arm64.whl.metadata (61 kB)\r\n",
      "Collecting wheel<1.0,>=0.23.0 (from astunparse>=1.6.0->tensorflow)\r\n",
      "  Downloading wheel-0.44.0-py3-none-any.whl.metadata (2.3 kB)\r\n",
      "Collecting rich (from keras>=3.2.0->tensorflow)\r\n",
      "  Downloading rich-13.9.2-py3-none-any.whl.metadata (18 kB)\r\n",
      "Collecting namex (from keras>=3.2.0->tensorflow)\r\n",
      "  Downloading namex-0.0.8-py3-none-any.whl.metadata (246 bytes)\r\n",
      "Collecting optree (from keras>=3.2.0->tensorflow)\r\n",
      "  Downloading optree-0.13.0-cp312-cp312-macosx_11_0_arm64.whl.metadata (47 kB)\r\n",
      "Requirement already satisfied: charset-normalizer<4,>=2 in ./.venv/lib/python3.12/site-packages (from requests<3,>=2.21.0->tensorflow) (3.4.0)\r\n",
      "Requirement already satisfied: idna<4,>=2.5 in ./.venv/lib/python3.12/site-packages (from requests<3,>=2.21.0->tensorflow) (3.10)\r\n",
      "Requirement already satisfied: urllib3<3,>=1.21.1 in ./.venv/lib/python3.12/site-packages (from requests<3,>=2.21.0->tensorflow) (2.2.3)\r\n",
      "Requirement already satisfied: certifi>=2017.4.17 in ./.venv/lib/python3.12/site-packages (from requests<3,>=2.21.0->tensorflow) (2024.8.30)\r\n",
      "Collecting markdown>=2.6.8 (from tensorboard<2.18,>=2.17->tensorflow)\r\n",
      "  Downloading Markdown-3.7-py3-none-any.whl.metadata (7.0 kB)\r\n",
      "Collecting tensorboard-data-server<0.8.0,>=0.7.0 (from tensorboard<2.18,>=2.17->tensorflow)\r\n",
      "  Downloading tensorboard_data_server-0.7.2-py3-none-any.whl.metadata (1.1 kB)\r\n",
      "Collecting werkzeug>=1.0.1 (from tensorboard<2.18,>=2.17->tensorflow)\r\n",
      "  Using cached werkzeug-3.0.4-py3-none-any.whl.metadata (3.7 kB)\r\n",
      "Requirement already satisfied: MarkupSafe>=2.1.1 in ./.venv/lib/python3.12/site-packages (from werkzeug>=1.0.1->tensorboard<2.18,>=2.17->tensorflow) (3.0.2)\r\n",
      "Collecting markdown-it-py>=2.2.0 (from rich->keras>=3.2.0->tensorflow)\r\n",
      "  Downloading markdown_it_py-3.0.0-py3-none-any.whl.metadata (6.9 kB)\r\n",
      "Requirement already satisfied: pygments<3.0.0,>=2.13.0 in ./.venv/lib/python3.12/site-packages (from rich->keras>=3.2.0->tensorflow) (2.18.0)\r\n",
      "Collecting mdurl~=0.1 (from markdown-it-py>=2.2.0->rich->keras>=3.2.0->tensorflow)\r\n",
      "  Downloading mdurl-0.1.2-py3-none-any.whl.metadata (1.6 kB)\r\n",
      "Downloading tensorflow-2.17.0-cp312-cp312-macosx_12_0_arm64.whl (236.3 MB)\r\n",
      "\u001B[2K   \u001B[38;2;114;156;31m━━━━━━━━━━━━━━━━━━━━━━━━━━━━━━━━━━━━━━━━\u001B[0m \u001B[32m236.3/236.3 MB\u001B[0m \u001B[31m4.9 MB/s\u001B[0m eta \u001B[36m0:00:00\u001B[0mm eta \u001B[36m0:00:01\u001B[0m[36m0:00:02\u001B[0m\r\n",
      "\u001B[?25hDownloading absl_py-2.1.0-py3-none-any.whl (133 kB)\r\n",
      "Downloading astunparse-1.6.3-py2.py3-none-any.whl (12 kB)\r\n",
      "Downloading flatbuffers-24.3.25-py2.py3-none-any.whl (26 kB)\r\n",
      "Downloading gast-0.6.0-py3-none-any.whl (21 kB)\r\n",
      "Downloading google_pasta-0.2.0-py3-none-any.whl (57 kB)\r\n",
      "Downloading grpcio-1.67.0-cp312-cp312-macosx_10_9_universal2.whl (11.0 MB)\r\n",
      "\u001B[2K   \u001B[38;2;114;156;31m━━━━━━━━━━━━━━━━━━━━━━━━━━━━━━━━━━━━━━━━\u001B[0m \u001B[32m11.0/11.0 MB\u001B[0m \u001B[31m7.5 MB/s\u001B[0m eta \u001B[36m0:00:00\u001B[0mMB/s\u001B[0m eta \u001B[36m0:00:01\u001B[0m:01\u001B[0m0m\r\n",
      "\u001B[?25hDownloading h5py-3.12.1-cp312-cp312-macosx_11_0_arm64.whl (2.9 MB)\r\n",
      "\u001B[2K   \u001B[38;2;114;156;31m━━━━━━━━━━━━━━━━━━━━━━━━━━━━━━━━━━━━━━━━\u001B[0m \u001B[32m2.9/2.9 MB\u001B[0m \u001B[31m7.6 MB/s\u001B[0m eta \u001B[36m0:00:00\u001B[0m[31m7.3 MB/s\u001B[0m eta \u001B[36m0:00:01\u001B[0m\r\n",
      "\u001B[?25hDownloading keras-3.6.0-py3-none-any.whl (1.2 MB)\r\n",
      "\u001B[2K   \u001B[38;2;114;156;31m━━━━━━━━━━━━━━━━━━━━━━━━━━━━━━━━━━━━━━━━\u001B[0m \u001B[32m1.2/1.2 MB\u001B[0m \u001B[31m6.0 MB/s\u001B[0m eta \u001B[36m0:00:00\u001B[0m\r\n",
      "\u001B[?25hDownloading libclang-18.1.1-1-py2.py3-none-macosx_11_0_arm64.whl (25.8 MB)\r\n",
      "\u001B[2K   \u001B[38;2;114;156;31m━━━━━━━━━━━━━━━━━━━━━━━━━━━━━━━━━━━━━━━━\u001B[0m \u001B[32m25.8/25.8 MB\u001B[0m \u001B[31m7.3 MB/s\u001B[0m eta \u001B[36m0:00:00\u001B[0m[31m7.3 MB/s\u001B[0m eta \u001B[36m0:00:01\u001B[0m\r\n",
      "\u001B[?25hDownloading ml_dtypes-0.4.1-cp312-cp312-macosx_10_9_universal2.whl (405 kB)\r\n",
      "Using cached numpy-1.26.4-cp312-cp312-macosx_11_0_arm64.whl (13.7 MB)\r\n",
      "Downloading opt_einsum-3.4.0-py3-none-any.whl (71 kB)\r\n",
      "Downloading protobuf-4.25.5-cp37-abi3-macosx_10_9_universal2.whl (394 kB)\r\n",
      "Downloading tensorboard-2.17.1-py3-none-any.whl (5.5 MB)\r\n",
      "\u001B[2K   \u001B[38;2;114;156;31m━━━━━━━━━━━━━━━━━━━━━━━━━━━━━━━━━━━━━━━━\u001B[0m \u001B[32m5.5/5.5 MB\u001B[0m \u001B[31m6.9 MB/s\u001B[0m eta \u001B[36m0:00:00\u001B[0m[31m6.3 MB/s\u001B[0m eta \u001B[36m0:00:01\u001B[0m\r\n",
      "\u001B[?25hDownloading termcolor-2.5.0-py3-none-any.whl (7.8 kB)\r\n",
      "Using cached typing_extensions-4.12.2-py3-none-any.whl (37 kB)\r\n",
      "Downloading wrapt-1.16.0-cp312-cp312-macosx_11_0_arm64.whl (38 kB)\r\n",
      "Downloading Markdown-3.7-py3-none-any.whl (106 kB)\r\n",
      "Downloading tensorboard_data_server-0.7.2-py3-none-any.whl (2.4 kB)\r\n",
      "Using cached werkzeug-3.0.4-py3-none-any.whl (227 kB)\r\n",
      "Downloading wheel-0.44.0-py3-none-any.whl (67 kB)\r\n",
      "Downloading namex-0.0.8-py3-none-any.whl (5.8 kB)\r\n",
      "Downloading optree-0.13.0-cp312-cp312-macosx_11_0_arm64.whl (305 kB)\r\n",
      "Downloading rich-13.9.2-py3-none-any.whl (242 kB)\r\n",
      "Downloading markdown_it_py-3.0.0-py3-none-any.whl (87 kB)\r\n",
      "Downloading mdurl-0.1.2-py3-none-any.whl (10.0 kB)\r\n",
      "Installing collected packages: namex, libclang, flatbuffers, wrapt, wheel, werkzeug, typing-extensions, termcolor, tensorboard-data-server, protobuf, opt-einsum, numpy, mdurl, markdown, grpcio, google-pasta, gast, absl-py, tensorboard, optree, ml-dtypes, markdown-it-py, h5py, astunparse, rich, keras, tensorflow\r\n",
      "  Attempting uninstall: numpy\r\n",
      "    Found existing installation: numpy 2.1.2\r\n",
      "    Uninstalling numpy-2.1.2:\r\n",
      "      Successfully uninstalled numpy-2.1.2\r\n",
      "Successfully installed absl-py-2.1.0 astunparse-1.6.3 flatbuffers-24.3.25 gast-0.6.0 google-pasta-0.2.0 grpcio-1.67.0 h5py-3.12.1 keras-3.6.0 libclang-18.1.1 markdown-3.7 markdown-it-py-3.0.0 mdurl-0.1.2 ml-dtypes-0.4.1 namex-0.0.8 numpy-1.26.4 opt-einsum-3.4.0 optree-0.13.0 protobuf-4.25.5 rich-13.9.2 tensorboard-2.17.1 tensorboard-data-server-0.7.2 tensorflow-2.17.0 termcolor-2.5.0 typing-extensions-4.12.2 werkzeug-3.0.4 wheel-0.44.0 wrapt-1.16.0\r\n",
      "Requirement already satisfied: keras in ./.venv/lib/python3.12/site-packages (3.6.0)\r\n",
      "Requirement already satisfied: absl-py in ./.venv/lib/python3.12/site-packages (from keras) (2.1.0)\r\n",
      "Requirement already satisfied: numpy in ./.venv/lib/python3.12/site-packages (from keras) (1.26.4)\r\n",
      "Requirement already satisfied: rich in ./.venv/lib/python3.12/site-packages (from keras) (13.9.2)\r\n",
      "Requirement already satisfied: namex in ./.venv/lib/python3.12/site-packages (from keras) (0.0.8)\r\n",
      "Requirement already satisfied: h5py in ./.venv/lib/python3.12/site-packages (from keras) (3.12.1)\r\n",
      "Requirement already satisfied: optree in ./.venv/lib/python3.12/site-packages (from keras) (0.13.0)\r\n",
      "Requirement already satisfied: ml-dtypes in ./.venv/lib/python3.12/site-packages (from keras) (0.4.1)\r\n",
      "Requirement already satisfied: packaging in ./.venv/lib/python3.12/site-packages (from keras) (24.1)\r\n",
      "Requirement already satisfied: typing-extensions>=4.5.0 in ./.venv/lib/python3.12/site-packages (from optree->keras) (4.12.2)\r\n",
      "Requirement already satisfied: markdown-it-py>=2.2.0 in ./.venv/lib/python3.12/site-packages (from rich->keras) (3.0.0)\r\n",
      "Requirement already satisfied: pygments<3.0.0,>=2.13.0 in ./.venv/lib/python3.12/site-packages (from rich->keras) (2.18.0)\r\n",
      "Requirement already satisfied: mdurl~=0.1 in ./.venv/lib/python3.12/site-packages (from markdown-it-py>=2.2.0->rich->keras) (0.1.2)\r\n",
      "Requirement already satisfied: matplotlib in ./.venv/lib/python3.12/site-packages (3.9.2)\r\n",
      "Requirement already satisfied: contourpy>=1.0.1 in ./.venv/lib/python3.12/site-packages (from matplotlib) (1.3.0)\r\n",
      "Requirement already satisfied: cycler>=0.10 in ./.venv/lib/python3.12/site-packages (from matplotlib) (0.12.1)\r\n",
      "Requirement already satisfied: fonttools>=4.22.0 in ./.venv/lib/python3.12/site-packages (from matplotlib) (4.54.1)\r\n",
      "Requirement already satisfied: kiwisolver>=1.3.1 in ./.venv/lib/python3.12/site-packages (from matplotlib) (1.4.7)\r\n",
      "Requirement already satisfied: numpy>=1.23 in ./.venv/lib/python3.12/site-packages (from matplotlib) (1.26.4)\r\n",
      "Requirement already satisfied: packaging>=20.0 in ./.venv/lib/python3.12/site-packages (from matplotlib) (24.1)\r\n",
      "Requirement already satisfied: pillow>=8 in ./.venv/lib/python3.12/site-packages (from matplotlib) (11.0.0)\r\n",
      "Requirement already satisfied: pyparsing>=2.3.1 in ./.venv/lib/python3.12/site-packages (from matplotlib) (3.2.0)\r\n",
      "Requirement already satisfied: python-dateutil>=2.7 in ./.venv/lib/python3.12/site-packages (from matplotlib) (2.9.0.post0)\r\n",
      "Requirement already satisfied: six>=1.5 in ./.venv/lib/python3.12/site-packages (from python-dateutil>=2.7->matplotlib) (1.16.0)\r\n"
     ]
    }
   ],
   "execution_count": 1
  },
  {
   "cell_type": "code",
   "source": [
    "\n",
    "import numpy as np\n",
    "import tensorflow as tf\n",
    "from tensorflow import keras\n",
    "from keras import layers\n",
    "import matplotlib.pyplot as plt"
   ],
   "metadata": {
    "id": "2tA99eQILKAh",
    "ExecuteTime": {
     "end_time": "2024-10-19T21:06:45.743204Z",
     "start_time": "2024-10-19T21:06:13.010966Z"
    }
   },
   "outputs": [],
   "execution_count": 2
  },
  {
   "cell_type": "markdown",
   "source": [
    "# 1. Set Random Seed for Reproducibility"
   ],
   "metadata": {
    "id": "7CaOcisfLuyQ"
   }
  },
  {
   "cell_type": "code",
   "source": [
    "np.random.seed(42)\n",
    "tf.random.set_seed(42)\n",
    "batch_size = 64"
   ],
   "metadata": {
    "id": "5oQH0zVbLMnc",
    "ExecuteTime": {
     "end_time": "2024-10-19T21:09:43.426885Z",
     "start_time": "2024-10-19T21:09:43.415906Z"
    }
   },
   "outputs": [],
   "execution_count": 3
  },
  {
   "cell_type": "markdown",
   "source": [
    "# 2. Load and Preprocess the MNIST Dataset"
   ],
   "metadata": {
    "id": "ciTkMSe1L2ZY"
   }
  },
  {
   "cell_type": "code",
   "source": [
    "# Load the MNIST dataset\n",
    "(x_train, y_train_orig), (x_test, y_test_orig) = keras.datasets.mnist.load_data()\n",
    "\n",
    "# Normalize the images to [0, 1] range and flatten them\n",
    "x_train = x_train.astype('float32') / 255.0\n",
    "x_train_flat = x_train.reshape(-1, 28 * 28)\n",
    "x_test = x_test.astype('float32') / 255.0\n",
    "x_test_flat = x_test.reshape(-1, 28 * 28)\n",
    "\n",
    "# Convert labels to one-hot encoded vectors\n",
    "num_classes = 10\n",
    "y_train = keras.utils.to_categorical(y_train_orig, num_classes)\n",
    "\n",
    "y_test = keras.utils.to_categorical(y_test_orig, num_classes)"
   ],
   "metadata": {
    "id": "WITuPqjqLO9d",
    "ExecuteTime": {
     "end_time": "2024-10-19T21:10:41.676315Z",
     "start_time": "2024-10-19T21:10:37.010843Z"
    }
   },
   "outputs": [
    {
     "name": "stdout",
     "output_type": "stream",
     "text": [
      "Downloading data from https://storage.googleapis.com/tensorflow/tf-keras-datasets/mnist.npz\n",
      "\u001B[1m11490434/11490434\u001B[0m \u001B[32m━━━━━━━━━━━━━━━━━━━━\u001B[0m\u001B[37m\u001B[0m \u001B[1m4s\u001B[0m 0us/step\n"
     ]
    },
    {
     "data": {
      "text/plain": [
       "array([[0., 0., 0., ..., 0., 0., 0.],\n",
       "       [0., 0., 0., ..., 0., 0., 0.],\n",
       "       [0., 0., 0., ..., 0., 0., 0.],\n",
       "       ...,\n",
       "       [0., 0., 0., ..., 0., 0., 0.],\n",
       "       [0., 0., 0., ..., 0., 0., 0.],\n",
       "       [0., 0., 0., ..., 0., 0., 0.]], dtype=float32)"
      ]
     },
     "execution_count": 4,
     "metadata": {},
     "output_type": "execute_result"
    }
   ],
   "execution_count": 4
  },
  {
   "cell_type": "markdown",
   "source": [
    "# 3. Hyperparameters"
   ],
   "metadata": {
    "id": "rTE0YgXBL7Ig"
   }
  },
  {
   "cell_type": "code",
   "source": [
    "''' TODO: Adjust the following parameters with different values. Save the plots and test results for each setup.\n",
    "    TODO: write a report about your findings from varying the parameters and their effect on overall performance. '''\n",
    "\n",
    "# lr: 0.1, 0.01, ...\n",
    "# epoch: 5, 10, 50, ...\n",
    "# layer: [128], [256, 256], ... .\n",
    "learning_rate = 0.01\n",
    "num_epochs = 5\n",
    "hidden_layers = (128,)"
   ],
   "metadata": {
    "id": "AOgZZ0fPLRdO",
    "ExecuteTime": {
     "end_time": "2024-10-20T07:13:40.057335Z",
     "start_time": "2024-10-20T07:13:40.038690Z"
    }
   },
   "outputs": [],
   "execution_count": 19
  },
  {
   "cell_type": "markdown",
   "source": [
    "# 4. Define the Neural Network Model"
   ],
   "metadata": {
    "id": "olzhlK8lMGaP"
   }
  },
  {
   "cell_type": "code",
   "source": [
    "def create_mlp_model(input_size, hidden_layers, output_size):\n",
    "    model = keras.Sequential()\n",
    "\n",
    "    # Input layer is defined by specifying input_shape in the first layer\n",
    "    for i, units in enumerate(hidden_layers):\n",
    "        print(\"This is the unit \", units)\n",
    "        if i == 0:\n",
    "            # First hidden layer with input shape specified\n",
    "            model.add(layers.Dense(units, activation='relu', input_shape=(input_size,)))\n",
    "        else:\n",
    "            # Subsequent hidden layers\n",
    "            model.add(layers.Dense(units, activation='relu'))\n",
    "\n",
    "    # Output layer with softmax activation for multi-class classification\n",
    "    model.add(layers.Dense(output_size, activation='softmax'))\n",
    "\n",
    "    return model\n",
    "\n",
    "# Model parameters\n",
    "input_size = 28 * 28  # MNIST images are 28x28 pixels\n",
    "output_size = num_classes  # 10 classes for digits 0-9\n",
    "\n",
    "# Create the model\n",
    "model = create_mlp_model(input_size, hidden_layers, output_size)"
   ],
   "metadata": {
    "id": "gPDSOtNhLYjO",
    "ExecuteTime": {
     "end_time": "2024-10-20T07:13:42.271885Z",
     "start_time": "2024-10-20T07:13:42.120653Z"
    }
   },
   "outputs": [
    {
     "name": "stdout",
     "output_type": "stream",
     "text": [
      "This is the unit  128\n"
     ]
    }
   ],
   "execution_count": 20
  },
  {
   "cell_type": "markdown",
   "source": [
    "# 5. Compile the Model"
   ],
   "metadata": {
    "id": "cKWa-rZnMQRA"
   }
  },
  {
   "cell_type": "code",
   "source": [
    "model.compile(\n",
    "    optimizer=keras.optimizers.SGD(learning_rate=learning_rate),\n",
    "    loss='categorical_crossentropy',\n",
    "    metrics=['accuracy']\n",
    ")"
   ],
   "metadata": {
    "id": "hnd7zMKiLcGe",
    "ExecuteTime": {
     "end_time": "2024-10-20T07:13:45.420493Z",
     "start_time": "2024-10-20T07:13:45.403741Z"
    }
   },
   "outputs": [],
   "execution_count": 21
  },
  {
   "cell_type": "markdown",
   "source": [
    "# 6. Train the Model"
   ],
   "metadata": {
    "id": "EarGwXN5MURa"
   }
  },
  {
   "cell_type": "code",
   "source": [
    "history = model.fit(\n",
    "    x_train_flat, y_train,\n",
    "    epochs=num_epochs,\n",
    "    batch_size=batch_size,\n",
    "    validation_split=0.1,  # Use 10% of training data for validation\n",
    "    verbose=1\n",
    ")"
   ],
   "metadata": {
    "id": "3mL9UjfQLeOO",
    "ExecuteTime": {
     "end_time": "2024-10-20T07:14:31.709588Z",
     "start_time": "2024-10-20T07:13:47.056047Z"
    }
   },
   "outputs": [
    {
     "name": "stdout",
     "output_type": "stream",
     "text": [
      "Epoch 1/5\n",
      "\u001B[1m844/844\u001B[0m \u001B[32m━━━━━━━━━━━━━━━━━━━━\u001B[0m\u001B[37m\u001B[0m \u001B[1m9s\u001B[0m 10ms/step - accuracy: 0.6285 - loss: 1.3683 - val_accuracy: 0.8975 - val_loss: 0.4325\n",
      "Epoch 2/5\n",
      "\u001B[1m844/844\u001B[0m \u001B[32m━━━━━━━━━━━━━━━━━━━━\u001B[0m\u001B[37m\u001B[0m \u001B[1m9s\u001B[0m 10ms/step - accuracy: 0.8731 - loss: 0.4723 - val_accuracy: 0.9138 - val_loss: 0.3265\n",
      "Epoch 3/5\n",
      "\u001B[1m844/844\u001B[0m \u001B[32m━━━━━━━━━━━━━━━━━━━━\u001B[0m\u001B[37m\u001B[0m \u001B[1m10s\u001B[0m 11ms/step - accuracy: 0.8925 - loss: 0.3851 - val_accuracy: 0.9208 - val_loss: 0.2879\n",
      "Epoch 4/5\n",
      "\u001B[1m844/844\u001B[0m \u001B[32m━━━━━━━━━━━━━━━━━━━━\u001B[0m\u001B[37m\u001B[0m \u001B[1m8s\u001B[0m 10ms/step - accuracy: 0.9020 - loss: 0.3456 - val_accuracy: 0.9268 - val_loss: 0.2653\n",
      "Epoch 5/5\n",
      "\u001B[1m844/844\u001B[0m \u001B[32m━━━━━━━━━━━━━━━━━━━━\u001B[0m\u001B[37m\u001B[0m \u001B[1m9s\u001B[0m 10ms/step - accuracy: 0.9086 - loss: 0.3200 - val_accuracy: 0.9307 - val_loss: 0.2488\n"
     ]
    }
   ],
   "execution_count": 22
  },
  {
   "cell_type": "markdown",
   "source": [
    "# 7. Evaluate the Model on Test Data"
   ],
   "metadata": {
    "id": "RrUVh4GPMX9x"
   }
  },
  {
   "cell_type": "code",
   "source": [
    "test_loss, test_accuracy = model.evaluate(x_test_flat, y_test, verbose=0)\n",
    "print(f'Test Accuracy: {test_accuracy * 100:.2f}%')"
   ],
   "metadata": {
    "id": "P5rDgIgFLgig",
    "ExecuteTime": {
     "end_time": "2024-10-20T07:14:37.584725Z",
     "start_time": "2024-10-20T07:14:36.592917Z"
    }
   },
   "outputs": [
    {
     "name": "stdout",
     "output_type": "stream",
     "text": [
      "Test Accuracy: 91.98%\n"
     ]
    }
   ],
   "execution_count": 23
  },
  {
   "cell_type": "markdown",
   "source": [
    "# 8. Visualize Training History"
   ],
   "metadata": {
    "id": "6yzPT_XKMbaI"
   }
  },
  {
   "cell_type": "code",
   "source": [
    "plt.figure(figsize=(12, 5))\n",
    "\n",
    "# Plot training & validation accuracy values\n",
    "plt.subplot(1, 2, 1)\n",
    "plt.plot(history.history['accuracy'], label='Train Accuracy')\n",
    "plt.plot(history.history['val_accuracy'], label='Validation Accuracy')\n",
    "plt.title('Model Accuracy')\n",
    "plt.xlabel('Epoch')\n",
    "plt.ylabel('Accuracy')\n",
    "plt.legend(loc='lower right')\n",
    "\n",
    "# Plot training & validation loss values\n",
    "plt.subplot(1, 2, 2)\n",
    "plt.plot(history.history['loss'], label='Train Loss')\n",
    "plt.plot(history.history['val_loss'], label='Validation Loss')\n",
    "plt.title('Model Loss')\n",
    "plt.xlabel('Epoch')\n",
    "plt.ylabel('Loss')\n",
    "plt.legend(loc='upper right')\n",
    "\n",
    "plt.tight_layout()\n",
    "plt.savefig()"
   ],
   "metadata": {
    "id": "7VsfWuk5Limu",
    "ExecuteTime": {
     "end_time": "2024-10-20T07:14:44.061946Z",
     "start_time": "2024-10-20T07:14:42.389097Z"
    }
   },
   "outputs": [
    {
     "ename": "TypeError",
     "evalue": "Figure.savefig() missing 1 required positional argument: 'fname'",
     "output_type": "error",
     "traceback": [
      "\u001B[0;31m---------------------------------------------------------------------------\u001B[0m",
      "\u001B[0;31mTypeError\u001B[0m                                 Traceback (most recent call last)",
      "Cell \u001B[0;32mIn[24], line 22\u001B[0m\n\u001B[1;32m     19\u001B[0m plt\u001B[38;5;241m.\u001B[39mlegend(loc\u001B[38;5;241m=\u001B[39m\u001B[38;5;124m'\u001B[39m\u001B[38;5;124mupper right\u001B[39m\u001B[38;5;124m'\u001B[39m)\n\u001B[1;32m     21\u001B[0m plt\u001B[38;5;241m.\u001B[39mtight_layout()\n\u001B[0;32m---> 22\u001B[0m \u001B[43mplt\u001B[49m\u001B[38;5;241;43m.\u001B[39;49m\u001B[43msavefig\u001B[49m\u001B[43m(\u001B[49m\u001B[43m)\u001B[49m\n",
      "File \u001B[0;32m~/Workbench/cmpt-310/assignment-2/.venv/lib/python3.12/site-packages/matplotlib/pyplot.py:1228\u001B[0m, in \u001B[0;36msavefig\u001B[0;34m(*args, **kwargs)\u001B[0m\n\u001B[1;32m   1225\u001B[0m fig \u001B[38;5;241m=\u001B[39m gcf()\n\u001B[1;32m   1226\u001B[0m \u001B[38;5;66;03m# savefig default implementation has no return, so mypy is unhappy\u001B[39;00m\n\u001B[1;32m   1227\u001B[0m \u001B[38;5;66;03m# presumably this is here because subclasses can return?\u001B[39;00m\n\u001B[0;32m-> 1228\u001B[0m res \u001B[38;5;241m=\u001B[39m \u001B[43mfig\u001B[49m\u001B[38;5;241;43m.\u001B[39;49m\u001B[43msavefig\u001B[49m\u001B[43m(\u001B[49m\u001B[38;5;241;43m*\u001B[39;49m\u001B[43margs\u001B[49m\u001B[43m,\u001B[49m\u001B[43m \u001B[49m\u001B[38;5;241;43m*\u001B[39;49m\u001B[38;5;241;43m*\u001B[39;49m\u001B[43mkwargs\u001B[49m\u001B[43m)\u001B[49m  \u001B[38;5;66;03m# type: ignore[func-returns-value]\u001B[39;00m\n\u001B[1;32m   1229\u001B[0m fig\u001B[38;5;241m.\u001B[39mcanvas\u001B[38;5;241m.\u001B[39mdraw_idle()  \u001B[38;5;66;03m# Need this if 'transparent=True', to reset colors.\u001B[39;00m\n\u001B[1;32m   1230\u001B[0m \u001B[38;5;28;01mreturn\u001B[39;00m res\n",
      "\u001B[0;31mTypeError\u001B[0m: Figure.savefig() missing 1 required positional argument: 'fname'"
     ]
    },
    {
     "data": {
      "text/plain": [
       "<Figure size 1200x500 with 2 Axes>"
      ],
      "image/png": "[encoded data removed]"
     },
     "metadata": {},
     "output_type": "display_data"
    }
   ],
   "execution_count": 24
  },
  {
   "cell_type": "markdown",
   "source": [
    "# 9. Test the Model on Random Input Data"
   ],
   "metadata": {
    "id": "XG23TVq7MgDq"
   }
  },
  {
   "cell_type": "code",
   "source": [
    "# Select random samples from the test set\n",
    "num_samples = 5\n",
    "random_indices = np.random.choice(x_test.shape[0], num_samples, replace=False)\n",
    "random_images = x_test[random_indices]\n",
    "random_images_flat = x_test_flat[random_indices]\n",
    "random_labels = y_test_orig[random_indices]\n",
    "\n",
    "# Predict the labels of the random images\n",
    "predictions = model.predict(random_images_flat)\n",
    "predicted_labels = np.argmax(predictions, axis=1)\n",
    "\n",
    "# Plot the random images along with predicted and true labels\n",
    "plt.figure(figsize=(15, 3))\n",
    "for i in range(num_samples):\n",
    "    plt.subplot(1, num_samples, i+1)\n",
    "    plt.imshow(random_images[i], cmap='gray')\n",
    "    plt.title(f\"True: {random_labels[i]}\\nPredicted: {predicted_labels[i]}\")\n",
    "    plt.axis('off')\n",
    "plt.show()\n",
    "predicted_labels, predictions"
   ],
   "metadata": {
    "id": "Frgob4tOLlMu",
    "ExecuteTime": {
     "end_time": "2024-10-20T07:18:15.700124Z",
     "start_time": "2024-10-20T07:18:15.461862Z"
    }
   },
   "outputs": [
    {
     "name": "stdout",
     "output_type": "stream",
     "text": [
      "\u001B[1m1/1\u001B[0m \u001B[32m━━━━━━━━━━━━━━━━━━━━\u001B[0m\u001B[37m\u001B[0m \u001B[1m0s\u001B[0m 38ms/step\n"
     ]
    },
    {
     "data": {
      "text/plain": [
       "<Figure size 1500x300 with 5 Axes>"
      ],
      "image/png": "[encoded data removed]"
     },
     "metadata": {},
     "output_type": "display_data"
    },
    {
     "data": {
      "text/plain": [
       "(array([7, 5, 7, 2, 4]),\n",
       " array([[1.00960324e-06, 1.55742225e-06, 1.24617654e-04, 1.10515844e-04,\n",
       "         1.93396681e-06, 1.38183213e-05, 8.42664605e-08, 9.97420669e-01,\n",
       "         3.63279250e-04, 1.96253438e-03],\n",
       "        [9.71299876e-03, 2.92169803e-04, 9.70418472e-03, 2.15988621e-01,\n",
       "         1.88642950e-03, 6.84287012e-01, 2.75216968e-04, 3.30918469e-04,\n",
       "         7.27205724e-02, 4.80188569e-03],\n",
       "        [1.45993344e-02, 1.46707729e-03, 5.63952723e-04, 4.34385799e-03,\n",
       "         3.77248530e-03, 9.61470976e-03, 4.27495310e-04, 8.94432843e-01,\n",
       "         1.10640684e-02, 5.97142875e-02],\n",
       "        [4.14318405e-04, 4.79314961e-02, 5.58979034e-01, 2.59956322e-03,\n",
       "         1.27739146e-01, 8.78854189e-03, 6.86316490e-02, 1.01387709e-01,\n",
       "         5.63785471e-02, 2.71499865e-02],\n",
       "        [3.73089826e-08, 4.29923858e-07, 9.37273441e-08, 1.64230314e-05,\n",
       "         9.98430312e-01, 2.24928808e-05, 3.17202866e-05, 3.02755769e-04,\n",
       "         1.60988238e-05, 1.17963052e-03]], dtype=float32))"
      ]
     },
     "execution_count": 25,
     "metadata": {},
     "output_type": "execute_result"
    }
   ],
   "execution_count": 25
  },
  {
   "cell_type": "code",
   "source": [
    "\n",
    "def gen_accuracy_and_loss_graph(model, plot_title): \n",
    "    \"\"\"\n",
    "    @param plot_title: the title to save the generated graphs under\n",
    "    @param model: a model trained on the MINST digits dataset\n",
    "    @return: generates graphs of the model's loss and accuracy over multiple \n",
    "    epochs\n",
    "    \"\"\"\n",
    "    plt.figure(figsize=(12, 5))\n",
    "\n",
    "    plt.subplot(1, 2, 1)\n",
    "    plt.plot(model.history['accuracy'], label='Train Accuracy')\n",
    "    plt.plot(model.history['val_accuracy'], label='Validation Accuracy')\n",
    "    plt.title('Model Accuracy')\n",
    "    plt.xlabel('Epoch')\n",
    "    plt.ylabel('Accuracy')\n",
    "    plt.legend(loc='lower right')\n",
    "\n",
    "    plt.subplot(1, 2, 2)\n",
    "    plt.plot(model.history['loss'], label='Train Loss')\n",
    "    plt.plot(model.history['val_loss'], label='Validation Loss')\n",
    "    plt.title('Model Loss')\n",
    "    plt.xlabel('Epoch')\n",
    "    plt.ylabel('Loss')\n",
    "    plt.legend(loc='upper right')\n",
    "\n",
    "    plt.tight_layout()\n",
    "    plt.savefig(plot_title)\n",
    "    \n",
    "\n",
    "def accuracy_and_loss_graphs_of_model(model_config, training_data):\n",
    "    \"\"\"\n",
    "    @param model_config: a tuple containing the learning rate, number of \n",
    "    epochs, number of hidden layers for the model, and other configuration \n",
    "    information for the model\n",
    "    @param training_data: a tuple of the samples and expected labels for each sample \n",
    "    to be used for training the model\n",
    "    @return: creates a model using the given configuration and training \n",
    "    data and generates two graphs of the model's accuracy and loss\n",
    "    over multiple epochs\n",
    "    \"\"\"\n",
    "    samples, labels = training_data\n",
    "    model = (create_mlp_model(model_config[\"input_size\"],\n",
    "                             model_config[\"hidden_layers\"],\n",
    "                              model_config[\"output_size\"])\n",
    "             .compile(optimizer=keras.optimizers.SGD(learning_rate=model_config['learning_rate']),\n",
    "                      loss='categorical_crossentropy',\n",
    "                      metrics=['accuracy'])\n",
    "             .fit(samples,\n",
    "                  labels, \n",
    "                  epochs=model_config[\"epochs\"],\n",
    "                  batch_size=model_config[\"batch_size\"],\n",
    "                  validation_split=0.1))\n",
    "    \n",
    "    gen_accuracy_and_loss_graph(model, f\"lr_{model_config['learning_rate']}|epoch_{model_config['epoch']}|layer_{model_config[\"layer\"]}\")\n",
    "\n"
   ],
   "metadata": {
    "id": "6ZfjqxTrLnRC"
   },
   "execution_count": null,
   "outputs": []
  }
 ]
}
